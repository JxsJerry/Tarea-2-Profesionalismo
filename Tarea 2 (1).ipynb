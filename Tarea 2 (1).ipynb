{
 "cells": [
  {
   "cell_type": "markdown",
   "metadata": {},
   "source": [
    "# Profesionalismo en el Ámbito Actuarial\n",
    "## TAREA 2\n",
    "## Hernández Martínez Oscar Gerardo"
   ]
  },
  {
   "cell_type": "markdown",
   "metadata": {},
   "source": [
    "### 1. ¿Es información Confiable, Homogénea y Suficiente?"
   ]
  },
  {
   "cell_type": "markdown",
   "metadata": {},
   "source": [
    "Sí es información confiable, puesto que son datos reales de una compañía de seguros."
   ]
  },
  {
   "cell_type": "markdown",
   "metadata": {},
   "source": [
    "## Carga de librerías"
   ]
  },
  {
   "cell_type": "code",
   "execution_count": 1,
   "metadata": {},
   "outputs": [],
   "source": [
    "import pandas as pd\n",
    "import numpy as np\n",
    "import matplotlib.pyplot as plt\n",
    "import math"
   ]
  },
  {
   "cell_type": "markdown",
   "metadata": {},
   "source": [
    "## Carga de datos"
   ]
  },
  {
   "cell_type": "code",
   "execution_count": 2,
   "metadata": {},
   "outputs": [],
   "source": [
    "p = pd.read_csv(\"POLIZAS.CSV\", low_memory=False)\n",
    "r = pd.read_csv(\"RECLAMACIONES.CSV\",low_memory=False)"
   ]
  },
  {
   "cell_type": "code",
   "execution_count": 3,
   "metadata": {},
   "outputs": [
    {
     "data": {
      "text/html": [
       "<div>\n",
       "<style scoped>\n",
       "    .dataframe tbody tr th:only-of-type {\n",
       "        vertical-align: middle;\n",
       "    }\n",
       "\n",
       "    .dataframe tbody tr th {\n",
       "        vertical-align: top;\n",
       "    }\n",
       "\n",
       "    .dataframe thead th {\n",
       "        text-align: right;\n",
       "    }\n",
       "</style>\n",
       "<table border=\"1\" class=\"dataframe\">\n",
       "  <thead>\n",
       "    <tr style=\"text-align: right;\">\n",
       "      <th></th>\n",
       "      <th>poliza</th>\n",
       "      <th>renovacion</th>\n",
       "      <th>ini_vigpol</th>\n",
       "      <th>fin_vigpol</th>\n",
       "      <th>ini_vig</th>\n",
       "      <th>fin_vig</th>\n",
       "      <th>prima_neta</th>\n",
       "      <th>ramo</th>\n",
       "    </tr>\n",
       "  </thead>\n",
       "  <tbody>\n",
       "    <tr>\n",
       "      <th>0</th>\n",
       "      <td>100000002822</td>\n",
       "      <td>5</td>\n",
       "      <td>08/01/2004</td>\n",
       "      <td>08/01/2005</td>\n",
       "      <td>08/01/2004</td>\n",
       "      <td>08/01/2005</td>\n",
       "      <td>-561.66</td>\n",
       "      <td>37</td>\n",
       "    </tr>\n",
       "    <tr>\n",
       "      <th>1</th>\n",
       "      <td>100000002822</td>\n",
       "      <td>5</td>\n",
       "      <td>08/01/2004</td>\n",
       "      <td>08/01/2005</td>\n",
       "      <td>08/01/2004</td>\n",
       "      <td>08/01/2005</td>\n",
       "      <td>2246.62</td>\n",
       "      <td>37</td>\n",
       "    </tr>\n",
       "    <tr>\n",
       "      <th>2</th>\n",
       "      <td>100000002822</td>\n",
       "      <td>5</td>\n",
       "      <td>08/01/2004</td>\n",
       "      <td>08/01/2005</td>\n",
       "      <td>08/01/2004</td>\n",
       "      <td>08/01/2005</td>\n",
       "      <td>-561.66</td>\n",
       "      <td>37</td>\n",
       "    </tr>\n",
       "    <tr>\n",
       "      <th>3</th>\n",
       "      <td>100000002822</td>\n",
       "      <td>5</td>\n",
       "      <td>08/01/2004</td>\n",
       "      <td>08/01/2005</td>\n",
       "      <td>08/01/2004</td>\n",
       "      <td>08/01/2005</td>\n",
       "      <td>2246.62</td>\n",
       "      <td>37</td>\n",
       "    </tr>\n",
       "    <tr>\n",
       "      <th>4</th>\n",
       "      <td>100000002822</td>\n",
       "      <td>5</td>\n",
       "      <td>08/01/2004</td>\n",
       "      <td>08/01/2005</td>\n",
       "      <td>08/01/2004</td>\n",
       "      <td>08/01/2005</td>\n",
       "      <td>-561.66</td>\n",
       "      <td>37</td>\n",
       "    </tr>\n",
       "    <tr>\n",
       "      <th>...</th>\n",
       "      <td>...</td>\n",
       "      <td>...</td>\n",
       "      <td>...</td>\n",
       "      <td>...</td>\n",
       "      <td>...</td>\n",
       "      <td>...</td>\n",
       "      <td>...</td>\n",
       "      <td>...</td>\n",
       "    </tr>\n",
       "    <tr>\n",
       "      <th>1968154</th>\n",
       "      <td>32488</td>\n",
       "      <td>11</td>\n",
       "      <td>05/01/2016</td>\n",
       "      <td>04/30/2017</td>\n",
       "      <td>05/01/2016</td>\n",
       "      <td>04/30/2017</td>\n",
       "      <td>47699.28</td>\n",
       "      <td>37</td>\n",
       "    </tr>\n",
       "    <tr>\n",
       "      <th>1968155</th>\n",
       "      <td>32489</td>\n",
       "      <td>11</td>\n",
       "      <td>05/01/2016</td>\n",
       "      <td>04/30/2017</td>\n",
       "      <td>05/01/2016</td>\n",
       "      <td>04/30/2017</td>\n",
       "      <td>19051.32</td>\n",
       "      <td>37</td>\n",
       "    </tr>\n",
       "    <tr>\n",
       "      <th>1968156</th>\n",
       "      <td>32494</td>\n",
       "      <td>13</td>\n",
       "      <td>05/01/2016</td>\n",
       "      <td>04/30/2017</td>\n",
       "      <td>05/01/2016</td>\n",
       "      <td>04/30/2017</td>\n",
       "      <td>88129.32</td>\n",
       "      <td>37</td>\n",
       "    </tr>\n",
       "    <tr>\n",
       "      <th>1968157</th>\n",
       "      <td>32495</td>\n",
       "      <td>13</td>\n",
       "      <td>05/01/2016</td>\n",
       "      <td>04/30/2017</td>\n",
       "      <td>05/01/2016</td>\n",
       "      <td>04/30/2017</td>\n",
       "      <td>21582.24</td>\n",
       "      <td>37</td>\n",
       "    </tr>\n",
       "    <tr>\n",
       "      <th>1968158</th>\n",
       "      <td>42412</td>\n",
       "      <td>2</td>\n",
       "      <td>05/01/2016</td>\n",
       "      <td>04/30/2017</td>\n",
       "      <td>05/01/2016</td>\n",
       "      <td>04/30/2017</td>\n",
       "      <td>15518.16</td>\n",
       "      <td>37</td>\n",
       "    </tr>\n",
       "  </tbody>\n",
       "</table>\n",
       "<p>1968159 rows × 8 columns</p>\n",
       "</div>"
      ],
      "text/plain": [
       "               poliza  renovacion  ini_vigpol  fin_vigpol     ini_vig  \\\n",
       "0        100000002822           5  08/01/2004  08/01/2005  08/01/2004   \n",
       "1        100000002822           5  08/01/2004  08/01/2005  08/01/2004   \n",
       "2        100000002822           5  08/01/2004  08/01/2005  08/01/2004   \n",
       "3        100000002822           5  08/01/2004  08/01/2005  08/01/2004   \n",
       "4        100000002822           5  08/01/2004  08/01/2005  08/01/2004   \n",
       "...               ...         ...         ...         ...         ...   \n",
       "1968154         32488          11  05/01/2016  04/30/2017  05/01/2016   \n",
       "1968155         32489          11  05/01/2016  04/30/2017  05/01/2016   \n",
       "1968156         32494          13  05/01/2016  04/30/2017  05/01/2016   \n",
       "1968157         32495          13  05/01/2016  04/30/2017  05/01/2016   \n",
       "1968158         42412           2  05/01/2016  04/30/2017  05/01/2016   \n",
       "\n",
       "            fin_vig  prima_neta  ramo  \n",
       "0        08/01/2005     -561.66    37  \n",
       "1        08/01/2005     2246.62    37  \n",
       "2        08/01/2005     -561.66    37  \n",
       "3        08/01/2005     2246.62    37  \n",
       "4        08/01/2005     -561.66    37  \n",
       "...             ...         ...   ...  \n",
       "1968154  04/30/2017    47699.28    37  \n",
       "1968155  04/30/2017    19051.32    37  \n",
       "1968156  04/30/2017    88129.32    37  \n",
       "1968157  04/30/2017    21582.24    37  \n",
       "1968158  04/30/2017    15518.16    37  \n",
       "\n",
       "[1968159 rows x 8 columns]"
      ]
     },
     "execution_count": 3,
     "metadata": {},
     "output_type": "execute_result"
    }
   ],
   "source": [
    "p"
   ]
  },
  {
   "cell_type": "code",
   "execution_count": 4,
   "metadata": {},
   "outputs": [
    {
     "data": {
      "text/html": [
       "<div>\n",
       "<style scoped>\n",
       "    .dataframe tbody tr th:only-of-type {\n",
       "        vertical-align: middle;\n",
       "    }\n",
       "\n",
       "    .dataframe tbody tr th {\n",
       "        vertical-align: top;\n",
       "    }\n",
       "\n",
       "    .dataframe thead th {\n",
       "        text-align: right;\n",
       "    }\n",
       "</style>\n",
       "<table border=\"1\" class=\"dataframe\">\n",
       "  <thead>\n",
       "    <tr style=\"text-align: right;\">\n",
       "      <th></th>\n",
       "      <th>ini_vig</th>\n",
       "      <th>fin_vig</th>\n",
       "      <th>fecha_pago</th>\n",
       "      <th>fech_ocurr</th>\n",
       "      <th>importe</th>\n",
       "      <th>ramo</th>\n",
       "    </tr>\n",
       "  </thead>\n",
       "  <tbody>\n",
       "    <tr>\n",
       "      <th>0</th>\n",
       "      <td>03/08/2010</td>\n",
       "      <td>03/08/2011</td>\n",
       "      <td>09/06/2011</td>\n",
       "      <td>14/01/2011</td>\n",
       "      <td>469.35</td>\n",
       "      <td>37</td>\n",
       "    </tr>\n",
       "    <tr>\n",
       "      <th>1</th>\n",
       "      <td>03/12/2009</td>\n",
       "      <td>03/12/2010</td>\n",
       "      <td>30/11/2010</td>\n",
       "      <td>14/06/2010</td>\n",
       "      <td>115.96</td>\n",
       "      <td>37</td>\n",
       "    </tr>\n",
       "    <tr>\n",
       "      <th>2</th>\n",
       "      <td>03/12/2009</td>\n",
       "      <td>03/12/2010</td>\n",
       "      <td>30/11/2010</td>\n",
       "      <td>14/06/2010</td>\n",
       "      <td>34.70</td>\n",
       "      <td>37</td>\n",
       "    </tr>\n",
       "    <tr>\n",
       "      <th>3</th>\n",
       "      <td>03/12/2009</td>\n",
       "      <td>03/12/2010</td>\n",
       "      <td>30/11/2010</td>\n",
       "      <td>14/06/2010</td>\n",
       "      <td>87.66</td>\n",
       "      <td>37</td>\n",
       "    </tr>\n",
       "    <tr>\n",
       "      <th>4</th>\n",
       "      <td>03/08/2010</td>\n",
       "      <td>03/08/2011</td>\n",
       "      <td>09/06/2011</td>\n",
       "      <td>14/01/2011</td>\n",
       "      <td>78.32</td>\n",
       "      <td>37</td>\n",
       "    </tr>\n",
       "    <tr>\n",
       "      <th>...</th>\n",
       "      <td>...</td>\n",
       "      <td>...</td>\n",
       "      <td>...</td>\n",
       "      <td>...</td>\n",
       "      <td>...</td>\n",
       "      <td>...</td>\n",
       "    </tr>\n",
       "    <tr>\n",
       "      <th>4733650</th>\n",
       "      <td>08/04/2016</td>\n",
       "      <td>NaN</td>\n",
       "      <td>22/04/2016</td>\n",
       "      <td>22/04/2016</td>\n",
       "      <td>200.00</td>\n",
       "      <td>39</td>\n",
       "    </tr>\n",
       "    <tr>\n",
       "      <th>4733651</th>\n",
       "      <td>08/04/2016</td>\n",
       "      <td>NaN</td>\n",
       "      <td>22/04/2016</td>\n",
       "      <td>22/04/2016</td>\n",
       "      <td>330.00</td>\n",
       "      <td>39</td>\n",
       "    </tr>\n",
       "    <tr>\n",
       "      <th>4733652</th>\n",
       "      <td>01/04/2016</td>\n",
       "      <td>NaN</td>\n",
       "      <td>22/04/2016</td>\n",
       "      <td>22/04/2016</td>\n",
       "      <td>200.00</td>\n",
       "      <td>39</td>\n",
       "    </tr>\n",
       "    <tr>\n",
       "      <th>4733653</th>\n",
       "      <td>11/04/2016</td>\n",
       "      <td>NaN</td>\n",
       "      <td>22/04/2016</td>\n",
       "      <td>22/04/2016</td>\n",
       "      <td>330.00</td>\n",
       "      <td>39</td>\n",
       "    </tr>\n",
       "    <tr>\n",
       "      <th>4733654</th>\n",
       "      <td>11/04/2016</td>\n",
       "      <td>NaN</td>\n",
       "      <td>22/04/2016</td>\n",
       "      <td>22/04/2016</td>\n",
       "      <td>330.00</td>\n",
       "      <td>39</td>\n",
       "    </tr>\n",
       "  </tbody>\n",
       "</table>\n",
       "<p>4733655 rows × 6 columns</p>\n",
       "</div>"
      ],
      "text/plain": [
       "            ini_vig     fin_vig  fecha_pago  fech_ocurr  importe  ramo\n",
       "0        03/08/2010  03/08/2011  09/06/2011  14/01/2011   469.35    37\n",
       "1        03/12/2009  03/12/2010  30/11/2010  14/06/2010   115.96    37\n",
       "2        03/12/2009  03/12/2010  30/11/2010  14/06/2010    34.70    37\n",
       "3        03/12/2009  03/12/2010  30/11/2010  14/06/2010    87.66    37\n",
       "4        03/08/2010  03/08/2011  09/06/2011  14/01/2011    78.32    37\n",
       "...             ...         ...         ...         ...      ...   ...\n",
       "4733650  08/04/2016         NaN  22/04/2016  22/04/2016   200.00    39\n",
       "4733651  08/04/2016         NaN  22/04/2016  22/04/2016   330.00    39\n",
       "4733652  01/04/2016         NaN  22/04/2016  22/04/2016   200.00    39\n",
       "4733653  11/04/2016         NaN  22/04/2016  22/04/2016   330.00    39\n",
       "4733654  11/04/2016         NaN  22/04/2016  22/04/2016   330.00    39\n",
       "\n",
       "[4733655 rows x 6 columns]"
      ]
     },
     "execution_count": 4,
     "metadata": {},
     "output_type": "execute_result"
    }
   ],
   "source": [
    "r"
   ]
  },
  {
   "cell_type": "code",
   "execution_count": 5,
   "metadata": {},
   "outputs": [
    {
     "data": {
      "text/plain": [
       "51010"
      ]
     },
     "execution_count": 5,
     "metadata": {},
     "output_type": "execute_result"
    }
   ],
   "source": [
    "len(p['poliza'].unique())"
   ]
  },
  {
   "cell_type": "code",
   "execution_count": 6,
   "metadata": {},
   "outputs": [
    {
     "data": {
      "text/plain": [
       "37    1531804\n",
       "39     436354\n",
       "34          1\n",
       "Name: ramo, dtype: int64"
      ]
     },
     "execution_count": 6,
     "metadata": {},
     "output_type": "execute_result"
    }
   ],
   "source": [
    "p['ramo'].value_counts()"
   ]
  },
  {
   "cell_type": "code",
   "execution_count": 18,
   "metadata": {},
   "outputs": [
    {
     "data": {
      "text/plain": [
       "39    3059892\n",
       "37    1673761\n",
       "36          2\n",
       "Name: ramo, dtype: int64"
      ]
     },
     "execution_count": 18,
     "metadata": {},
     "output_type": "execute_result"
    }
   ],
   "source": [
    "r['ramo'].value_counts()"
   ]
  },
  {
   "cell_type": "markdown",
   "metadata": {},
   "source": [
    "Nos encontramos con que la base consta de 51010 pólizas diferentes, por lo que se puede afirmar que es suficiente. \n",
    "\n",
    "Para el ramo 37 (Salud Individual) contamos con la información suficiente y homogénea, por lo tanto, se puede realizar el cálculo de la prima de tarifa.\n",
    "\n",
    "La información para el ramo 34 (Gastos Médicos Individuales) no es suficiente por lo que no se puede determinar la prima de tarifa.\n",
    "\n",
    "Para el ramo 39 (Salud Colectivo), contamos con suficiente información, sin embargo, al no conocer los datos de las unidades expuestas, no se puede determinar si la información es homogénea, por lo que no se puede realizar el cálculo de la prima de tarifa. "
   ]
  },
  {
   "cell_type": "markdown",
   "metadata": {},
   "source": [
    "Por lo tanto, la información disponible no permite realizar el cálculo de la prima de tarifa a corto plazo ni a largo plazo.\n",
    "\n",
    "Además, al no conocer el nombre de la aseguradora, no se puede saber el margen de utilidad que maneja, dato necesario para el cálculo."
   ]
  },
  {
   "cell_type": "code",
   "execution_count": 20,
   "metadata": {},
   "outputs": [
    {
     "data": {
      "text/html": [
       "<div>\n",
       "<style scoped>\n",
       "    .dataframe tbody tr th:only-of-type {\n",
       "        vertical-align: middle;\n",
       "    }\n",
       "\n",
       "    .dataframe tbody tr th {\n",
       "        vertical-align: top;\n",
       "    }\n",
       "\n",
       "    .dataframe thead th {\n",
       "        text-align: right;\n",
       "    }\n",
       "</style>\n",
       "<table border=\"1\" class=\"dataframe\">\n",
       "  <thead>\n",
       "    <tr style=\"text-align: right;\">\n",
       "      <th></th>\n",
       "      <th>poliza</th>\n",
       "      <th>renovacion</th>\n",
       "      <th>prima_neta</th>\n",
       "    </tr>\n",
       "    <tr>\n",
       "      <th>ramo</th>\n",
       "      <th></th>\n",
       "      <th></th>\n",
       "      <th></th>\n",
       "    </tr>\n",
       "  </thead>\n",
       "  <tbody>\n",
       "    <tr>\n",
       "      <th>34</th>\n",
       "      <td>1</td>\n",
       "      <td>0</td>\n",
       "      <td>1.440360e+03</td>\n",
       "    </tr>\n",
       "    <tr>\n",
       "      <th>37</th>\n",
       "      <td>149190769800911808</td>\n",
       "      <td>4027570</td>\n",
       "      <td>1.873547e+09</td>\n",
       "    </tr>\n",
       "    <tr>\n",
       "      <th>39</th>\n",
       "      <td>80428823261819456</td>\n",
       "      <td>1273567</td>\n",
       "      <td>2.261303e+09</td>\n",
       "    </tr>\n",
       "  </tbody>\n",
       "</table>\n",
       "</div>"
      ],
      "text/plain": [
       "                  poliza  renovacion    prima_neta\n",
       "ramo                                              \n",
       "34                     1           0  1.440360e+03\n",
       "37    149190769800911808     4027570  1.873547e+09\n",
       "39     80428823261819456     1273567  2.261303e+09"
      ]
     },
     "execution_count": 20,
     "metadata": {},
     "output_type": "execute_result"
    }
   ],
   "source": [
    "pol = p.groupby('ramo').sum()\n",
    "pol"
   ]
  },
  {
   "cell_type": "code",
   "execution_count": 21,
   "metadata": {},
   "outputs": [
    {
     "data": {
      "text/html": [
       "<div>\n",
       "<style scoped>\n",
       "    .dataframe tbody tr th:only-of-type {\n",
       "        vertical-align: middle;\n",
       "    }\n",
       "\n",
       "    .dataframe tbody tr th {\n",
       "        vertical-align: top;\n",
       "    }\n",
       "\n",
       "    .dataframe thead th {\n",
       "        text-align: right;\n",
       "    }\n",
       "</style>\n",
       "<table border=\"1\" class=\"dataframe\">\n",
       "  <thead>\n",
       "    <tr style=\"text-align: right;\">\n",
       "      <th></th>\n",
       "      <th>importe</th>\n",
       "    </tr>\n",
       "    <tr>\n",
       "      <th>ramo</th>\n",
       "      <th></th>\n",
       "    </tr>\n",
       "  </thead>\n",
       "  <tbody>\n",
       "    <tr>\n",
       "      <th>36</th>\n",
       "      <td>0.000000e+00</td>\n",
       "    </tr>\n",
       "    <tr>\n",
       "      <th>37</th>\n",
       "      <td>8.761403e+08</td>\n",
       "    </tr>\n",
       "    <tr>\n",
       "      <th>39</th>\n",
       "      <td>1.314700e+09</td>\n",
       "    </tr>\n",
       "  </tbody>\n",
       "</table>\n",
       "</div>"
      ],
      "text/plain": [
       "           importe\n",
       "ramo              \n",
       "36    0.000000e+00\n",
       "37    8.761403e+08\n",
       "39    1.314700e+09"
      ]
     },
     "execution_count": 21,
     "metadata": {},
     "output_type": "execute_result"
    }
   ],
   "source": [
    "rec = r.groupby('ramo').sum()"
   ]
  },
  {
   "cell_type": "markdown",
   "metadata": {},
   "source": [
    "Algo interesante que se puede apreciar, es que la base de reclamaciones cuenta con un ramo que no aparece en la base de pólizas, (ramo 36, Gastos Médicos Colectivo). Sin embargo, este ramo cuenta con dos registros y al hacer la suma, nos topamos con que el importe es cero, lo cual puede significar un error y corrección o bien, puede hacernos dudar sobre la veracidad de la información.\n"
   ]
  },
  {
   "cell_type": "markdown",
   "metadata": {},
   "source": [
    "<img src=Imagen1.png>"
   ]
  },
  {
   "cell_type": "markdown",
   "metadata": {},
   "source": [
    "<img src=Imagen2.png>"
   ]
  },
  {
   "cell_type": "markdown",
   "metadata": {},
   "source": [
    "<img src=Imagen3.png>"
   ]
  },
  {
   "cell_type": "markdown",
   "metadata": {},
   "source": [
    "Como se puede apreciar en las gráficas realizadas con Power BI, observamos que existe una deficiencia de las primas del ramo 37 y el ramo 34. "
   ]
  }
 ],
 "metadata": {
  "kernelspec": {
   "display_name": "Python 3",
   "language": "python",
   "name": "python3"
  },
  "language_info": {
   "codemirror_mode": {
    "name": "ipython",
    "version": 3
   },
   "file_extension": ".py",
   "mimetype": "text/x-python",
   "name": "python",
   "nbconvert_exporter": "python",
   "pygments_lexer": "ipython3",
   "version": "3.7.6"
  }
 },
 "nbformat": 4,
 "nbformat_minor": 4
}
